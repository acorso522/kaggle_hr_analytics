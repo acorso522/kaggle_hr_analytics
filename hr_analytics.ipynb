{
 "cells": [
  {
   "cell_type": "markdown",
   "metadata": {},
   "source": [
    "# Human Resource Analytics\n",
    "#### Andrew Orso"
   ]
  },
  {
   "cell_type": "code",
   "execution_count": 1,
   "metadata": {},
   "outputs": [],
   "source": [
    "%load_ext rpy2.ipython\n",
    "%qtconsole"
   ]
  },
  {
   "cell_type": "code",
   "execution_count": 2,
   "metadata": {},
   "outputs": [],
   "source": [
    "import numpy as np\n",
    "import pandas as pd\n",
    "import os\n",
    "import sys\n",
    "import warnings\n",
    "import math"
   ]
  },
  {
   "cell_type": "code",
   "execution_count": 3,
   "metadata": {
    "collapsed": true
   },
   "outputs": [],
   "source": [
    "hr_data = pd.read_csv('HR_comma_sep.csv')"
   ]
  },
  {
   "cell_type": "markdown",
   "metadata": {},
   "source": [
    "# EDA"
   ]
  },
  {
   "cell_type": "code",
   "execution_count": 5,
   "metadata": {},
   "outputs": [],
   "source": [
    "%%R\n",
    "\n",
    "library(dplyr)\n",
    "library(ggplot2)\n",
    "library(tibble)\n",
    "library(gridExtra)\n",
    "library(grid)\n",
    "\n",
    "## Shamelessly stolen from the R cookbook\n",
    "## http://www.cookbook-r.com/Graphs/Multiple_graphs_on_one_page_(ggplot2)/\n",
    "multiplot <- function(..., plotlist=NULL, file, cols=1, layout=NULL) {\n",
    "  library(grid)\n",
    "\n",
    "  # Make a list from the ... arguments and plotlist\n",
    "  plots <- c(list(...), plotlist)\n",
    "\n",
    "  numPlots = length(plots)\n",
    "\n",
    "  # If layout is NULL, then use 'cols' to determine layout\n",
    "  if (is.null(layout)) {\n",
    "    # Make the panel\n",
    "    # ncol: Number of columns of plots\n",
    "    # nrow: Number of rows needed, calculated from # of cols\n",
    "    layout <- matrix(seq(1, cols * ceiling(numPlots/cols)),\n",
    "                    ncol = cols, nrow = ceiling(numPlots/cols))\n",
    "  }\n",
    "\n",
    " if (numPlots==1) {\n",
    "    print(plots[[1]])\n",
    "\n",
    "  } else {\n",
    "    # Set up the page\n",
    "    grid.newpage()\n",
    "    pushViewport(viewport(layout = grid.layout(nrow(layout), ncol(layout))))\n",
    "\n",
    "    # Make each plot, in the correct location\n",
    "    for (i in 1:numPlots) {\n",
    "      # Get the i,j matrix positions of the regions that contain this subplot\n",
    "      matchidx <- as.data.frame(which(layout == i, arr.ind = TRUE))\n",
    "\n",
    "      print(plots[[i]], vp = viewport(layout.pos.row = matchidx$row,\n",
    "                                      layout.pos.col = matchidx$col))\n",
    "    }\n",
    "  }\n",
    "}"
   ]
  },
  {
   "cell_type": "code",
   "execution_count": 8,
   "metadata": {},
   "outputs": [
    {
     "name": "stdout",
     "output_type": "stream",
     "text": [
      "(14999, 10)\n"
     ]
    },
    {
     "data": {
      "text/html": [
       "<div>\n",
       "<style>\n",
       "    .dataframe thead tr:only-child th {\n",
       "        text-align: right;\n",
       "    }\n",
       "\n",
       "    .dataframe thead th {\n",
       "        text-align: left;\n",
       "    }\n",
       "\n",
       "    .dataframe tbody tr th {\n",
       "        vertical-align: top;\n",
       "    }\n",
       "</style>\n",
       "<table border=\"1\" class=\"dataframe\">\n",
       "  <thead>\n",
       "    <tr style=\"text-align: right;\">\n",
       "      <th></th>\n",
       "      <th>satisfaction_level</th>\n",
       "      <th>last_evaluation</th>\n",
       "      <th>number_project</th>\n",
       "      <th>average_montly_hours</th>\n",
       "      <th>time_spend_company</th>\n",
       "      <th>Work_accident</th>\n",
       "      <th>left</th>\n",
       "      <th>promotion_last_5years</th>\n",
       "      <th>sales</th>\n",
       "      <th>salary</th>\n",
       "    </tr>\n",
       "  </thead>\n",
       "  <tbody>\n",
       "    <tr>\n",
       "      <th>0</th>\n",
       "      <td>0.38</td>\n",
       "      <td>0.53</td>\n",
       "      <td>2</td>\n",
       "      <td>157</td>\n",
       "      <td>3</td>\n",
       "      <td>0</td>\n",
       "      <td>1</td>\n",
       "      <td>0</td>\n",
       "      <td>sales</td>\n",
       "      <td>low</td>\n",
       "    </tr>\n",
       "    <tr>\n",
       "      <th>1</th>\n",
       "      <td>0.80</td>\n",
       "      <td>0.86</td>\n",
       "      <td>5</td>\n",
       "      <td>262</td>\n",
       "      <td>6</td>\n",
       "      <td>0</td>\n",
       "      <td>1</td>\n",
       "      <td>0</td>\n",
       "      <td>sales</td>\n",
       "      <td>medium</td>\n",
       "    </tr>\n",
       "    <tr>\n",
       "      <th>2</th>\n",
       "      <td>0.11</td>\n",
       "      <td>0.88</td>\n",
       "      <td>7</td>\n",
       "      <td>272</td>\n",
       "      <td>4</td>\n",
       "      <td>0</td>\n",
       "      <td>1</td>\n",
       "      <td>0</td>\n",
       "      <td>sales</td>\n",
       "      <td>medium</td>\n",
       "    </tr>\n",
       "    <tr>\n",
       "      <th>3</th>\n",
       "      <td>0.72</td>\n",
       "      <td>0.87</td>\n",
       "      <td>5</td>\n",
       "      <td>223</td>\n",
       "      <td>5</td>\n",
       "      <td>0</td>\n",
       "      <td>1</td>\n",
       "      <td>0</td>\n",
       "      <td>sales</td>\n",
       "      <td>low</td>\n",
       "    </tr>\n",
       "    <tr>\n",
       "      <th>4</th>\n",
       "      <td>0.37</td>\n",
       "      <td>0.52</td>\n",
       "      <td>2</td>\n",
       "      <td>159</td>\n",
       "      <td>3</td>\n",
       "      <td>0</td>\n",
       "      <td>1</td>\n",
       "      <td>0</td>\n",
       "      <td>sales</td>\n",
       "      <td>low</td>\n",
       "    </tr>\n",
       "  </tbody>\n",
       "</table>\n",
       "</div>"
      ],
      "text/plain": [
       "   satisfaction_level  last_evaluation  number_project  average_montly_hours  \\\n",
       "0                0.38             0.53               2                   157   \n",
       "1                0.80             0.86               5                   262   \n",
       "2                0.11             0.88               7                   272   \n",
       "3                0.72             0.87               5                   223   \n",
       "4                0.37             0.52               2                   159   \n",
       "\n",
       "   time_spend_company  Work_accident  left  promotion_last_5years  sales  \\\n",
       "0                   3              0     1                      0  sales   \n",
       "1                   6              0     1                      0  sales   \n",
       "2                   4              0     1                      0  sales   \n",
       "3                   5              0     1                      0  sales   \n",
       "4                   3              0     1                      0  sales   \n",
       "\n",
       "   salary  \n",
       "0     low  \n",
       "1  medium  \n",
       "2  medium  \n",
       "3     low  \n",
       "4     low  "
      ]
     },
     "execution_count": 8,
     "metadata": {},
     "output_type": "execute_result"
    }
   ],
   "source": [
    "print(hr_data.shape)\n",
    "hr_data.head()"
   ]
  },
  {
   "cell_type": "markdown",
   "metadata": {},
   "source": [
    "This is an extremely clean dataset. There are no NAs to worry about, though if there were it could be taken care of with some type of imputation (probably column dependent, e.g., NA on number_project might mean zero where as NA on satisfaction, it may make more sense to use the mean) on the numerics, and a new \"unknown\" level for the categoricals.\n",
    "\n",
    "Beyond that, the rate of attrition appears to be 24%. So not low enough that we might need to worry about any kind of sampling. "
   ]
  },
  {
   "cell_type": "code",
   "execution_count": 9,
   "metadata": {
    "scrolled": true
   },
   "outputs": [
    {
     "data": {
      "text/plain": [
       "[1] \"Any NAs?: FALSE\"\n",
       "[1] \"Occurrence Rate: 0.238082538835922\"\n"
      ]
     },
     "metadata": {},
     "output_type": "display_data"
    }
   ],
   "source": [
    "%%R -i hr_data\n",
    "\n",
    "print(paste0('Any NAs?: ', any(is.na(hr_data))))\n",
    "print(paste0('Occurrence Rate: ', mean(hr_data$left)))\n"
   ]
  },
  {
   "cell_type": "markdown",
   "metadata": {},
   "source": [
    "Just want to be safe and make sure the data looks reasonable here and there are no things out of place."
   ]
  },
  {
   "cell_type": "code",
   "execution_count": 10,
   "metadata": {},
   "outputs": [
    {
     "data": {
      "text/plain": [
       "$satisfaction_level\n",
       "\n",
       "0.09  0.1 0.11 0.12 0.13 0.14 0.15 0.16 0.17 0.18 0.19  0.2 0.21 0.22 0.23 0.24 \n",
       " 195  358  335   30   54   73   76   79   72   63   74   69   67   60   54   80 \n",
       "0.25 0.26 0.27 0.28 0.29  0.3 0.31 0.32 0.33 0.34 0.35 0.36 0.37 0.38 0.39  0.4 \n",
       "  34   30   30   31   38   39   59   50   36   48   37  139  241  189  175  209 \n",
       "0.41 0.42 0.43 0.44 0.45 0.46 0.47 0.48 0.49  0.5 0.51 0.52 0.53 0.54 0.55 0.56 \n",
       " 171  155  224  211  203   95   42  149  209  229  187  196  179  185  179  187 \n",
       "0.57 0.58 0.59  0.6 0.61 0.62 0.63 0.64 0.65 0.66 0.67 0.68 0.69  0.7 0.71 0.72 \n",
       " 210  182  219  193  208  188  209  187  199  228  177  162  209  205  171  230 \n",
       "0.73 0.74 0.75 0.76 0.77 0.78 0.79  0.8 0.81 0.82 0.83 0.84 0.85 0.86 0.87 0.88 \n",
       " 246  257  226  234  252  241  217  222  220  241  234  247  207  200  225  187 \n",
       "0.89  0.9 0.91 0.92 0.93 0.94 0.95 0.96 0.97 0.98 0.99    1 \n",
       " 237  220  224  198  169  167  181  203  176  183  172  111 \n",
       "\n",
       "$last_evaluation\n",
       "\n",
       "0.36 0.37 0.38 0.39  0.4 0.41 0.42 0.43 0.44 0.45 0.46 0.47 0.48 0.49  0.5 0.51 \n",
       "  22   55   50   52   57   59   56   50   44  115  211  173  292  332  353  345 \n",
       "0.52 0.53 0.54 0.55 0.56 0.57 0.58 0.59  0.6 0.61 0.62 0.63 0.64 0.65 0.66 0.67 \n",
       " 309  324  350  358  322  333  225  255  221  234  233  236  235  201  222  245 \n",
       "0.68 0.69  0.7 0.71 0.72 0.73 0.74 0.75 0.76 0.77 0.78 0.79  0.8 0.81 0.82 0.83 \n",
       " 222  193  213  196  211  223  260  238  216  263  214  241  251  255  237  269 \n",
       "0.84 0.85 0.86 0.87 0.88 0.89  0.9 0.91 0.92 0.93 0.94 0.95 0.96 0.97 0.98 0.99 \n",
       " 294  316  273  326  235  296  313  287  269  269  263  258  249  276  263  258 \n",
       "   1 \n",
       " 283 \n",
       "\n",
       "$number_project\n",
       "\n",
       "   2    3    4    5    6    7 \n",
       "2388 4055 4365 2761 1174  256 \n",
       "\n",
       "$average_montly_hours\n",
       "\n",
       " 96  97  98  99 100 101 102 103 104 105 106 107 108 109 110 111 112 113 114 115 \n",
       "  6  14  23  11  19  16  17  17  28  17  19  10  18  18  12  26  10  29  15  14 \n",
       "116 117 118 119 120 121 122 123 124 125 126 127 128 129 130 131 132 133 134 135 \n",
       " 10  18  12  10  10  24  11  20  13  19  25  72  65  63  59  69 100  87 114 153 \n",
       "136 137 138 139 140 141 142 143 144 145 146 147 148 149 150 151 152 153 154 155 \n",
       "104 122  88 120 129 115 112 127 102 134 110 118 123 148 108 147 112 122 121 125 \n",
       "156 157 158 159 160 161 162 163 164 165 166 167 168 169 170 171 172 173 174 175 \n",
       "153 126 124 121 136  87  96  73  78  78  73  94  92  86  76  83  70  96  78  76 \n",
       "176 177 178 179 180 181 182 183 184 185 186 187 188 189 190 191 192 193 194 195 \n",
       " 81  81  85  73  88  78  75  84  80  93  76  68  73  85  75  80  96  67  71  67 \n",
       "196 197 198 199 200 201 202 203 204 205 206 207 208 209 210 211 212 213 214 215 \n",
       " 79  70  86  79  58  86  80  72  68  73  83  71  72  72  72  79  72  71  78  68 \n",
       "216 217 218 219 220 221 222 223 224 225 226 227 228 229 230 231 232 233 234 235 \n",
       " 76  87  79  85  64  81  84  93 112  95  93  77  76  93  59  77  97 102  74  76 \n",
       "236 237 238 239 240 241 242 243 244 245 246 247 248 249 250 251 252 253 254 255 \n",
       " 83  90 108  96  93  85  98 112  98 124 102 108  86  93 100  98  86 101 113 115 \n",
       "256 257 258 259 260 261 262 263 264 265 266 267 268 269 270 271 272 273 274 275 \n",
       " 87 126 110  98 124 102  86 110 111  91 105  88  93 102  93 104  86  88  94  82 \n",
       "276 277 278 279 280 281 282 283 284 285 286 287 288 289 290 291 292 293 294 295 \n",
       " 30  21  35  32  29  34  36  25  24  33  50  30   6  19  15  17  15  13  16  12 \n",
       "296 297 298 299 300 301 302 303 304 305 306 307 308 309 310 \n",
       " 21   7  13   6  11  24   8   6  17  18  18  14  20  16  18 \n",
       "\n",
       "$time_spend_company\n",
       "\n",
       "   2    3    4    5    6    7    8   10 \n",
       "3244 6443 2557 1473  718  188  162  214 \n",
       "\n",
       "$Work_accident\n",
       "\n",
       "    0     1 \n",
       "12830  2169 \n",
       "\n",
       "$left\n",
       "\n",
       "    0     1 \n",
       "11428  3571 \n",
       "\n",
       "$promotion_last_5years\n",
       "\n",
       "    0     1 \n",
       "14680   319 \n",
       "\n",
       "$sales\n",
       "\n",
       " accounting          hr          IT  management   marketing product_mng \n",
       "        767         739        1227         630         858         902 \n",
       "      RandD       sales     support   technical \n",
       "        787        4140        2229        2720 \n",
       "\n",
       "$salary\n",
       "\n",
       "  high    low medium \n",
       "  1237   7316   6446 \n",
       "\n"
      ]
     },
     "metadata": {},
     "output_type": "display_data"
    }
   ],
   "source": [
    "%%R -i hr_data\n",
    "sapply(hr_data, table)"
   ]
  },
  {
   "cell_type": "markdown",
   "metadata": {},
   "source": [
    "Plot histograms of all of the features we have to get a feel for the data and try to identify any possible outliers. That said it doesn't appear that there are any outliers. Of note, not many people get promotions, in fact work accidents are actually more common than promotions. We also see what appears to be bimodal distributions for average monthly hours and last evaluation which is quite interesting."
   ]
  },
  {
   "cell_type": "code",
   "execution_count": 11,
   "metadata": {},
   "outputs": [
    {
     "name": "stderr",
     "output_type": "stream",
     "text": [
      "/home/aorso/anaconda3/lib/python3.6/site-packages/rpy2/rinterface/__init__.py:186: RRuntimeWarning: `stat_bin()` using `bins = 30`. Pick better value with `binwidth`.\n",
      "\n",
      "  warnings.warn(x, RRuntimeWarning)\n"
     ]
    },
    {
     "data": {
      "image/png": "[encoded data removed]"
     },
     "metadata": {},
     "output_type": "display_data"
    }
   ],
   "source": [
    "%%R -i hr_data\n",
    "\n",
    "plots <- list()  \n",
    "for (i in setdiff(names(hr_data), c('left','sales', 'salary'))) {\n",
    "    p1 = ggplot(data = hr_data, aes_string(x = i)) + geom_histogram()\n",
    "    plots[[i]] <- p1  # add each plot into plot list\n",
    "}\n",
    "multiplot(plotlist = plots, cols = 3)"
   ]
  },
  {
   "cell_type": "markdown",
   "metadata": {},
   "source": [
    "It appears that if someone has been with the company for over 7 years, they don't attrite. That said, as you get into years 4 and 5, we definitely see attrition rates going up. With regards to number of projects, it appears that everyone who has 7 projects left and also we see a lot of people with too few projects leaving. "
   ]
  },
  {
   "cell_type": "code",
   "execution_count": 11,
   "metadata": {},
   "outputs": [
    {
     "data": {
      "image/png": "[encoded data removed]"
     },
     "metadata": {},
     "output_type": "display_data"
    }
   ],
   "source": [
    "%%R -i hr_data\n",
    "\n",
    "hr_data$left = as.factor(hr_data$left)\n",
    "\n",
    "plots <- list()\n",
    "a = hr_data %>% \n",
    "    group_by(time_spend_company, left) %>%\n",
    "    summarize(Count = n()) %>% \n",
    "    ggplot(aes(x = time_spend_company, y = Count, group = left, fill = left)) + geom_bar(stat = 'identity', position = 'dodge')\n",
    "b = hr_data %>% \n",
    "    group_by(number_project, left) %>%\n",
    "    summarize(Count = n()) %>% \n",
    "    ggplot(aes(x = number_project, y = Count, group = left, fill = left)) + geom_bar(stat = 'identity', position = 'dodge')\n",
    "\n",
    "multiplot(a,b,cols = 1)"
   ]
  },
  {
   "cell_type": "markdown",
   "metadata": {},
   "source": [
    "For our categorical variables, let's try and see if there is any sepearation for our dependent variable relative to the naive solution of 23.8% leaving. We definitely see some separation with salary and even with the position, there are a few smaller groups that perform differently than the expectation."
   ]
  },
  {
   "cell_type": "code",
   "execution_count": 14,
   "metadata": {},
   "outputs": [
    {
     "data": {
      "image/png": "[encoded data removed]"
     },
     "metadata": {},
     "output_type": "display_data"
    }
   ],
   "source": [
    "%%R -i hr_data\n",
    "\n",
    "a = hr_data %>% \n",
    "    group_by(sales) %>% \n",
    "    summarize(PctLeft = mean(left), count = n()) %>% \n",
    "    arrange(-PctLeft) %>%\n",
    "    mutate(sales = factor(sales, levels = sales)) %>%\n",
    "    ggplot(aes(x = sales, y = PctLeft, fill = count)) + \n",
    "        geom_bar(stat = 'identity') + \n",
    "        geom_hline(yintercept = mean(hr_data$left)) +\n",
    "        annotate(\"text\", 10, mean(hr_data$left) + 0.02, label = \"Naive\") \n",
    "\n",
    "\n",
    "b = hr_data %>% \n",
    "    group_by(salary) %>% \n",
    "    summarize(PctLeft = mean(left), count = n()) %>% \n",
    "    arrange(-PctLeft) %>% \n",
    "    mutate(salary = factor(salary, levels = salary)) %>%\n",
    "    ggplot(aes(x = salary, y = PctLeft, fill = count)) + \n",
    "        geom_bar(stat = 'identity') + \n",
    "        geom_hline(yintercept = mean(hr_data$left)) +\n",
    "        annotate(\"text\", 3, mean(hr_data$left) + 0.02, label = \"Naive\") \n",
    "\n",
    "c = hr_data %>% \n",
    "    group_by(promotion_last_5years) %>% \n",
    "    summarize(PctLeft = mean(left), count = n()) %>% \n",
    "    arrange(-PctLeft) %>% \n",
    "    mutate(salary = factor(promotion_last_5years, levels = promotion_last_5years)) %>%\n",
    "    ggplot(aes(x = promotion_last_5years, y = PctLeft, fill = count)) + \n",
    "        geom_bar(stat = 'identity') + \n",
    "        geom_hline(yintercept = mean(hr_data$left)) +\n",
    "        annotate(\"text\", 3, mean(hr_data$left) + 0.02, label = \"Naive\") \n",
    "\n",
    "d = hr_data %>% \n",
    "    group_by(Work_accident) %>% \n",
    "    summarize(PctLeft = mean(left), count = n()) %>% \n",
    "    arrange(-PctLeft) %>% \n",
    "    mutate(salary = factor(Work_accident, levels = Work_accident)) %>%\n",
    "    ggplot(aes(x = Work_accident, y = PctLeft, fill = count)) + \n",
    "        geom_bar(stat = 'identity') + \n",
    "        geom_hline(yintercept = mean(hr_data$left)) +\n",
    "        annotate(\"text\", 3, mean(hr_data$left) + 0.02, label = \"Naive\") \n",
    "\n",
    "\n",
    "multiplot(a,b,c,d,cols=1)"
   ]
  },
  {
   "cell_type": "markdown",
   "metadata": {},
   "source": [
    "Another way of examining the numeric variables is to decile them and see if there are any buckets that perform considerably different. Some unexpected results show up in a few variables where we see high attrition at lower levels and then much lower attrition in the middle before it returns to high levels. Looks like very high satisfaction levels correspond with low likelihood of attrition while low satisfaction results in extremely high likelihood of attrition. \n"
   ]
  },
  {
   "cell_type": "code",
   "execution_count": 31,
   "metadata": {},
   "outputs": [
    {
     "data": {
      "image/png": "[encoded data removed]"
     },
     "metadata": {},
     "output_type": "display_data"
    }
   ],
   "source": [
    "%%R -i hr_data\n",
    "\n",
    "hr_data_bkt = hr_data %>% \n",
    "    mutate(left = as.character(left)) %>%\n",
    "    mutate(satisfaction_level_bkt = ntile(satisfaction_level,10)) %>%\n",
    "    mutate(last_evaluation_bkt = ntile(last_evaluation,10)) %>%\n",
    "    mutate(average_montly_hours_bkt = ntile(average_montly_hours,10)) %>%\n",
    "    mutate(left = as.numeric(left))\n",
    "\n",
    "a = hr_data_bkt %>%\n",
    "        group_by(satisfaction_level_bkt) %>% \n",
    "        summarize(AvgLeft = mean(left), Count = n(), MinVal = min(satisfaction_level), MaxVal = max(satisfaction_level))\n",
    "a$SatisfactionBucket = paste0('[', a$MinVal, ',', a$MaxVal, ']')\n",
    "a = a %>%        \n",
    "    ggplot(aes(x = SatisfactionBucket, y = AvgLeft)) + \n",
    "    geom_bar(stat = 'identity') + \n",
    "    geom_hline(yintercept = mean(hr_data$left)) + \n",
    "    annotate(\"text\", 1, mean(hr_data$left) + 0.02, label = \"Naive\") + \n",
    "    xlab(paste0(\"Bucket of Satisfaction Level\"))\n",
    "\n",
    "b = hr_data_bkt %>%\n",
    "        group_by(last_evaluation_bkt) %>% \n",
    "        summarize(AvgLeft = mean(left), Count = n(), MinVal = min(last_evaluation), MaxVal = max(last_evaluation))\n",
    "b$EvaluationBucket = paste0('[', b$MinVal, ',', b$MaxVal, ']')\n",
    "b = b %>%        \n",
    "    ggplot(aes(x = EvaluationBucket, y = AvgLeft)) + \n",
    "    geom_bar(stat = 'identity') + \n",
    "    geom_hline(yintercept = mean(hr_data$left)) + \n",
    "    annotate(\"text\", 1, mean(hr_data$left) + 0.02, label = \"Naive\") + \n",
    "    xlab(paste0(\"Bucket of Last Evaluation\"))\n",
    "\n",
    "c = hr_data_bkt %>%\n",
    "        group_by(average_montly_hours_bkt) %>% \n",
    "        summarize(AvgLeft = mean(left), Count = n(), MinVal = min(average_montly_hours), MaxVal = max(average_montly_hours))\n",
    "c$MonthlyHoursBucket = paste0('[', c$MinVal, ',', c$MaxVal, ']')\n",
    "c = c %>%        \n",
    "    ggplot(aes(x = MonthlyHoursBucket, y = AvgLeft)) + \n",
    "    geom_bar(stat = 'identity') + \n",
    "    geom_hline(yintercept = mean(hr_data$left)) + \n",
    "    annotate(\"text\", 1, mean(hr_data$left) + 0.02, label = \"Naive\") + \n",
    "    xlab(paste0(\"Bucket of Monthly Hours\"))\n",
    "\n",
    "\n",
    "multiplot(a,b,c, cols = 1)\n",
    "\n"
   ]
  },
  {
   "cell_type": "markdown",
   "metadata": {},
   "source": [
    "Looks like people who have been with the company for some time and also haven't received a raise in their time with the company are far more likely to leave. Nothing super interesting with the relation between salary and number of projects. Higher salary attrite less and still, more projects tend to attrite more. It would seem most promotions occur for people in management (though whether the promotion is what put them there I'm not sure) but then more interestingly, we see that most promotions occur for people with either very few projects or a lot (though none for the 7 project folks). "
   ]
  },
  {
   "cell_type": "code",
   "execution_count": 74,
   "metadata": {},
   "outputs": [
    {
     "data": {
      "image/png": "[encoded data removed]"
     },
     "metadata": {},
     "output_type": "display_data"
    }
   ],
   "source": [
    "%%R -i hr_data\n",
    "\n",
    "hr_data$promotion_last_5years = as.factor(hr_data$promotion_last_5years)\n",
    "a = hr_data %>% \n",
    "  group_by(time_spend_company, promotion_last_5years) %>% \n",
    "  summarize(AvgLeft = mean(left), count = n()) %>%\n",
    "  ggplot(aes(x = time_spend_company, y = AvgLeft, group = promotion_last_5years, fill  = promotion_last_5years)) + geom_bar(stat = 'identity', position = 'dodge')\n",
    "\n",
    "b = hr_data %>% \n",
    "    group_by(number_project, salary) %>%\n",
    "    summarize(AvgLeft = mean(left), count = n()) %>%\n",
    "    ggplot(aes(x = number_project, y = AvgLeft, group = salary, fill  = salary)) + geom_bar(stat = 'identity', position = 'dodge')\n",
    "\n",
    "hr_data$promotion_last_5years = as.numeric(as.character(hr_data$promotion_last_5years))\n",
    "c = hr_data %>% \n",
    "    group_by(sales) %>% \n",
    "    summarize(PctPromotion = mean(promotion_last_5years), Count = n()) %>%\n",
    "    ggplot(aes(x = sales, y = PctPromotion, fill = Count)) + geom_bar(stat = 'identity')\n",
    "hr_data$promotion_last_5years = as.factor(hr_data$promotion_last_5years)\n",
    "d = hr_data %>%\n",
    "    group_by(number_project, promotion_last_5years) %>%\n",
    "    summarize(AvgLeft = mean(left), count = n()) %>%\n",
    "    ggplot(aes(x = number_project, y = AvgLeft, group = promotion_last_5years, fill  = promotion_last_5years)) + geom_bar(stat = 'identity', position = 'dodge')\n",
    "\n",
    "multiplot(a,b,c,d,cols = 1)"
   ]
  },
  {
   "cell_type": "markdown",
   "metadata": {
    "collapsed": true
   },
   "source": [
    "# Modeling\n",
    "## Try to predict which employees are going to leave with a naive baseline of 23.8%"
   ]
  },
  {
   "cell_type": "markdown",
   "metadata": {
    "collapsed": true
   },
   "source": [
    "We will start with logistic regression to get a good baseline as this is an easy model to get going. \n",
    "\n",
    "For the purposes of this exercise, we will concern ourselves with accuracy as this most closely reflects the business case we are replicating. We would probably want to bias the error measurement towards getting those who attrite correct, rather than general accuracy, but for this exercise we will just use accuracy."
   ]
  },
  {
   "cell_type": "code",
   "execution_count": 35,
   "metadata": {
    "collapsed": true
   },
   "outputs": [],
   "source": [
    "from sklearn.pipeline import Pipeline, make_pipeline\n",
    "from sklearn.linear_model import LogisticRegression\n",
    "from sklearn.preprocessing import StandardScaler\n",
    "from sklearn.model_selection import train_test_split\n",
    "from sklearn.metrics import confusion_matrix, accuracy_score, classification_report"
   ]
  },
  {
   "cell_type": "markdown",
   "metadata": {},
   "source": [
    "Our data has both categoricals and numerics but sklearn expects things to be only numerics so we are going to dummy out our categorical variables. "
   ]
  },
  {
   "cell_type": "code",
   "execution_count": 36,
   "metadata": {
    "collapsed": true
   },
   "outputs": [],
   "source": [
    "hr_data_dummy = pd.get_dummies(hr_data)"
   ]
  },
  {
   "cell_type": "code",
   "execution_count": 37,
   "metadata": {
    "collapsed": true
   },
   "outputs": [],
   "source": [
    "X = hr_data_dummy.drop('left', axis = 1)\n",
    "y = hr_data_dummy['left']\n",
    "X_train, X_test, y_train, y_test = train_test_split(X, y, test_size=0.20, random_state=42)"
   ]
  },
  {
   "cell_type": "code",
   "execution_count": 38,
   "metadata": {
    "scrolled": true
   },
   "outputs": [
    {
     "name": "stdout",
     "output_type": "stream",
     "text": [
      "0.23876989749145763\n",
      "0.23533333333333334\n"
     ]
    }
   ],
   "source": [
    "print(y_train.mean())\n",
    "print(y_test.mean())"
   ]
  },
  {
   "cell_type": "markdown",
   "metadata": {},
   "source": [
    "## Logistic Regression"
   ]
  },
  {
   "cell_type": "code",
   "execution_count": 39,
   "metadata": {},
   "outputs": [
    {
     "data": {
      "text/plain": [
       "LogisticRegression(C=1.0, class_weight=None, dual=False, fit_intercept=True,\n",
       "          intercept_scaling=1, max_iter=100, multi_class='ovr', n_jobs=1,\n",
       "          penalty='l2', random_state=None, solver='liblinear', tol=0.0001,\n",
       "          verbose=0, warm_start=False)"
      ]
     },
     "execution_count": 39,
     "metadata": {},
     "output_type": "execute_result"
    }
   ],
   "source": [
    "lr = LogisticRegression()\n",
    "lr.fit(X_train, y_train)"
   ]
  },
  {
   "cell_type": "code",
   "execution_count": 40,
   "metadata": {},
   "outputs": [
    {
     "name": "stdout",
     "output_type": "stream",
     "text": [
      "0.789399116593\n",
      "0.783333333333\n"
     ]
    }
   ],
   "source": [
    "print(lr.score(X_train, y_train))\n",
    "print(lr.score(X_test, y_test))"
   ]
  },
  {
   "cell_type": "markdown",
   "metadata": {},
   "source": [
    "82% of employees we predicted wouldn't leave, didn't leave and 57% of employees we predicted would leave, did leave. That said, we only identified 33% of those people who did actually leave. Our overall accuracy was 78.33, repeating of course, percent."
   ]
  },
  {
   "cell_type": "code",
   "execution_count": 41,
   "metadata": {},
   "outputs": [
    {
     "name": "stdout",
     "output_type": "stream",
     "text": [
      "[[2118  176]\n",
      " [ 474  232]]\n",
      "0.783333333333\n",
      "             precision    recall  f1-score   support\n",
      "\n",
      "          0       0.82      0.92      0.87      2294\n",
      "          1       0.57      0.33      0.42       706\n",
      "\n",
      "avg / total       0.76      0.78      0.76      3000\n",
      "\n"
     ]
    }
   ],
   "source": [
    "print(confusion_matrix(y_test, lr.predict(X_test))) # known x predicted\n",
    "print(accuracy_score(y_test, lr.predict(X_test)))\n",
    "print(classification_report(y_test, lr.predict(X_test)))"
   ]
  },
  {
   "cell_type": "code",
   "execution_count": 44,
   "metadata": {},
   "outputs": [
    {
     "name": "stdout",
     "output_type": "stream",
     "text": [
      "                       coefficients\n",
      "feature                            \n",
      "salary_low                    0.699\n",
      "last_evaluation               0.654\n",
      "sales_hr                      0.322\n",
      "time_spend_company            0.266\n",
      "salary_medium                 0.194\n",
      "sales_technical               0.146\n",
      "sales_marketing               0.090\n",
      "sales_support                 0.080\n",
      "sales_accounting              0.055\n",
      "sales_sales                   0.026\n",
      "average_montly_hours          0.005\n",
      "sales_product_mng            -0.014\n",
      "sales_IT                     -0.095\n",
      "number_project               -0.307\n",
      "sales_management             -0.386\n",
      "sales_RandD                  -0.609\n",
      "promotion_last_5years        -1.155\n",
      "salary_high                  -1.276\n",
      "Work_accident                -1.514\n",
      "satisfaction_level           -4.121\n"
     ]
    }
   ],
   "source": [
    "importances = pd.DataFrame({'feature':X_train.columns,'coefficients':np.round(lr.coef_[0],3)})\n",
    "importances = importances.sort_values('coefficients',ascending=False).set_index('feature')\n",
    "print(importances)"
   ]
  },
  {
   "cell_type": "markdown",
   "metadata": {},
   "source": [
    "## Random Forest\n",
    "Now let's try something a little more powerful. We will try a random forest to see if we can get better results. "
   ]
  },
  {
   "cell_type": "code",
   "execution_count": 48,
   "metadata": {
    "collapsed": true
   },
   "outputs": [],
   "source": [
    "from sklearn.ensemble import RandomForestClassifier"
   ]
  },
  {
   "cell_type": "code",
   "execution_count": 75,
   "metadata": {},
   "outputs": [
    {
     "data": {
      "text/plain": [
       "RandomForestClassifier(bootstrap=True, class_weight=None, criterion='gini',\n",
       "            max_depth=None, max_features='auto', max_leaf_nodes=None,\n",
       "            min_impurity_split=1e-07, min_samples_leaf=1,\n",
       "            min_samples_split=2, min_weight_fraction_leaf=0.0,\n",
       "            n_estimators=100, n_jobs=1, oob_score=False, random_state=None,\n",
       "            verbose=0, warm_start=False)"
      ]
     },
     "execution_count": 75,
     "metadata": {},
     "output_type": "execute_result"
    }
   ],
   "source": [
    "rf = RandomForestClassifier(n_estimators=100)\n",
    "rf.fit(X_train, y_train)"
   ]
  },
  {
   "cell_type": "code",
   "execution_count": 76,
   "metadata": {
    "scrolled": true
   },
   "outputs": [
    {
     "name": "stdout",
     "output_type": "stream",
     "text": [
      "1.0\n",
      "0.988666666667\n"
     ]
    }
   ],
   "source": [
    "print(rf.score(X_train, y_train))\n",
    "print(rf.score(X_test, y_test))"
   ]
  },
  {
   "cell_type": "markdown",
   "metadata": {},
   "source": [
    "We have found the silver bullet! It would appear that random forest does a really good job of mapping this data to its outcome vector. 96% of all attriters have been identified, and 99% of the time we said someone would attrite, they did."
   ]
  },
  {
   "cell_type": "code",
   "execution_count": 87,
   "metadata": {},
   "outputs": [
    {
     "name": "stdout",
     "output_type": "stream",
     "text": [
      "[[2286    8]\n",
      " [  26  680]]\n",
      "0.988666666667\n",
      "             precision    recall  f1-score   support\n",
      "\n",
      "          0       0.99      1.00      0.99      2294\n",
      "          1       0.99      0.96      0.98       706\n",
      "\n",
      "avg / total       0.99      0.99      0.99      3000\n",
      "\n"
     ]
    }
   ],
   "source": [
    "print(confusion_matrix(y_test, rf.predict(X_test))) # known x predicted\n",
    "print(accuracy_score(y_test, rf.predict(X_test)))\n",
    "print(classification_report(y_test, rf.predict(X_test)))"
   ]
  },
  {
   "cell_type": "markdown",
   "metadata": {},
   "source": [
    "Let's figure out what features are important so that we can use those to get better at improving retention. Unsurprisingly, as our EDA would have led us to believe, satisfaction level and time spent at the company are both extremely relevant variables."
   ]
  },
  {
   "cell_type": "code",
   "execution_count": 160,
   "metadata": {
    "scrolled": true
   },
   "outputs": [
    {
     "name": "stdout",
     "output_type": "stream",
     "text": [
      "                       importance\n",
      "feature                          \n",
      "satisfaction_level          0.296\n",
      "time_spend_company          0.184\n",
      "number_project              0.178\n",
      "average_montly_hours        0.167\n",
      "last_evaluation             0.128\n",
      "Work_accident               0.010\n",
      "salary_low                  0.007\n",
      "salary_high                 0.005\n",
      "sales_technical             0.004\n",
      "sales_sales                 0.003\n",
      "sales_support               0.003\n",
      "salary_medium               0.003\n",
      "sales_accounting            0.002\n",
      "sales_RandD                 0.002\n",
      "sales_IT                    0.002\n",
      "promotion_last_5years       0.002\n",
      "sales_hr                    0.002\n",
      "sales_marketing             0.001\n",
      "sales_product_mng           0.001\n",
      "sales_management            0.001\n"
     ]
    }
   ],
   "source": [
    "importances = pd.DataFrame({'feature':X_train.columns,'importance':np.round(rf.feature_importances_,3)})\n",
    "importances = importances.sort_values('importance',ascending=False).set_index('feature')\n",
    "print(importances)"
   ]
  },
  {
   "cell_type": "markdown",
   "metadata": {},
   "source": [
    "Before we move on, let's do some parameter tuning to see if we can get a little better."
   ]
  },
  {
   "cell_type": "code",
   "execution_count": 138,
   "metadata": {
    "scrolled": true
   },
   "outputs": [
    {
     "data": {
      "text/plain": [
       "RandomizedSearchCV(cv=None, error_score='raise',\n",
       "          estimator=RandomForestClassifier(bootstrap=True, class_weight=None, criterion='gini',\n",
       "            max_depth=None, max_features='auto', max_leaf_nodes=None,\n",
       "            min_impurity_split=1e-07, min_samples_leaf=1,\n",
       "            min_samples_split=2, min_weight_fraction_leaf=0.0,\n",
       "            n_estimators=100, n_jobs=1, oob_score=False, random_state=None,\n",
       "            verbose=0, warm_start=False),\n",
       "          fit_params={}, iid=True, n_iter=20, n_jobs=1,\n",
       "          param_distributions={'max_depth': [3, None], 'n_estimators': [100, 200], 'max_features': [2, 4, 10], 'min_samples_split': [2, 5], 'criterion': ['gini', 'entropy']},\n",
       "          pre_dispatch='2*n_jobs', random_state=None, refit=True,\n",
       "          return_train_score=True, scoring=None, verbose=0)"
      ]
     },
     "execution_count": 138,
     "metadata": {},
     "output_type": "execute_result"
    }
   ],
   "source": [
    "from sklearn.model_selection import RandomizedSearchCV\n",
    "param_dist = {\"max_depth\": [3, None],\n",
    "              \"n_estimators\": [100,200],\n",
    "              \"max_features\": [2,4,10],\n",
    "              \"min_samples_split\": [2,5],\n",
    "              \"criterion\": [\"gini\", \"entropy\"]}\n",
    "random_search = RandomizedSearchCV(rf, param_distributions = param_dist, n_iter = 20)\n",
    "random_search.fit(X_train, y_train)"
   ]
  },
  {
   "cell_type": "markdown",
   "metadata": {},
   "source": [
    "Doesn't appear that we will do much better than we already were with parameter tuning so let's stay with what we have already. "
   ]
  },
  {
   "cell_type": "code",
   "execution_count": 142,
   "metadata": {},
   "outputs": [
    {
     "data": {
      "text/plain": [
       "RandomForestClassifier(bootstrap=True, class_weight=None, criterion='gini',\n",
       "            max_depth=None, max_features=10, max_leaf_nodes=None,\n",
       "            min_impurity_split=1e-07, min_samples_leaf=1,\n",
       "            min_samples_split=2, min_weight_fraction_leaf=0.0,\n",
       "            n_estimators=100, n_jobs=1, oob_score=False, random_state=None,\n",
       "            verbose=0, warm_start=False)"
      ]
     },
     "execution_count": 142,
     "metadata": {},
     "output_type": "execute_result"
    }
   ],
   "source": [
    "random_search.best_estimator_"
   ]
  },
  {
   "cell_type": "markdown",
   "metadata": {},
   "source": [
    "# XGBoost\n",
    "We got really good results with the random forest, can we do even better?"
   ]
  },
  {
   "cell_type": "code",
   "execution_count": 116,
   "metadata": {
    "collapsed": true
   },
   "outputs": [],
   "source": [
    "from xgboost import XGBClassifier"
   ]
  },
  {
   "cell_type": "code",
   "execution_count": 117,
   "metadata": {},
   "outputs": [
    {
     "data": {
      "text/plain": [
       "XGBClassifier(base_score=0.5, colsample_bylevel=1, colsample_bytree=1,\n",
       "       gamma=0, learning_rate=0.1, max_delta_step=0, max_depth=3,\n",
       "       min_child_weight=1, missing=None, n_estimators=100, nthread=-1,\n",
       "       objective='binary:logistic', reg_alpha=0, reg_lambda=1,\n",
       "       scale_pos_weight=1, seed=0, silent=True, subsample=1)"
      ]
     },
     "execution_count": 117,
     "metadata": {},
     "output_type": "execute_result"
    }
   ],
   "source": [
    "xgb = XGBClassifier()\n",
    "xgb.fit(X_train, y_train)"
   ]
  },
  {
   "cell_type": "code",
   "execution_count": 119,
   "metadata": {},
   "outputs": [
    {
     "name": "stdout",
     "output_type": "stream",
     "text": [
      "0.976831402617\n",
      "0.971666666667\n"
     ]
    }
   ],
   "source": [
    "print(xgb.score(X_train, y_train))\n",
    "print(xgb.score(X_test, y_test))"
   ]
  },
  {
   "cell_type": "code",
   "execution_count": 121,
   "metadata": {},
   "outputs": [
    {
     "name": "stdout",
     "output_type": "stream",
     "text": [
      "[[2267   27]\n",
      " [  58  648]]\n",
      "0.971666666667\n",
      "             precision    recall  f1-score   support\n",
      "\n",
      "          0       0.98      0.99      0.98      2294\n",
      "          1       0.96      0.92      0.94       706\n",
      "\n",
      "avg / total       0.97      0.97      0.97      3000\n",
      "\n"
     ]
    }
   ],
   "source": [
    "print(confusion_matrix(y_test, xgb.predict(X_test))) # known x predicted\n",
    "print(accuracy_score(y_test, xgb.predict(X_test)))\n",
    "print(classification_report(y_test, xgb.predict(X_test)))"
   ]
  },
  {
   "cell_type": "markdown",
   "metadata": {},
   "source": [
    "# Feature Engineering\n",
    "Can we get any better by creating some additional features?"
   ]
  },
  {
   "cell_type": "markdown",
   "metadata": {},
   "source": [
    "What did we get wrong with our randomforest?"
   ]
  },
  {
   "cell_type": "code",
   "execution_count": 183,
   "metadata": {
    "collapsed": true,
    "scrolled": false
   },
   "outputs": [],
   "source": [
    "wrong_vals = X_test.assign(Wrong = np.where(y_test != rf.predict(X_test),1,0))"
   ]
  },
  {
   "cell_type": "markdown",
   "metadata": {},
   "source": [
    "From this view, it would appear that those people who have spent a lot of time with the company, are likely to stay whether they get a promotion or not. Also though, those who have been with the company for some time but do not get a promotion before 5 or 6 years are much more likely to leave. On top of that, if we look at our bucket of high attriters at 5 years, the ones most likely to attrite are those with the highest evaluation!"
   ]
  },
  {
   "cell_type": "code",
   "execution_count": 220,
   "metadata": {
    "collapsed": true
   },
   "outputs": [],
   "source": [
    "hr_data_dummy = hr_data_dummy.assign(NoPromo4 = np.where(np.logical_and(hr_data_dummy['time_spend_company'] == 4, hr_data_dummy['promotion_last_5years'] == 0),1,0))\n",
    "hr_data_dummy = hr_data_dummy.assign(NoPromo5 = np.where(np.logical_and(hr_data_dummy['time_spend_company'] == 5, hr_data_dummy['promotion_last_5years'] == 0),1,0))\n",
    "hr_data_dummy = hr_data_dummy.assign(NoPromo6 = np.where(np.logical_and(hr_data_dummy['time_spend_company'] == 6, hr_data_dummy['promotion_last_5years'] == 0),1,0))"
   ]
  },
  {
   "cell_type": "markdown",
   "metadata": {},
   "source": [
    "Another possible consideration is maybe there is some relationship between an employees satisfaction level and last evaluation score. Theory here is that maybe if there is a large discrepancy between the two that we actually can find something. "
   ]
  },
  {
   "cell_type": "code",
   "execution_count": 241,
   "metadata": {
    "collapsed": true
   },
   "outputs": [],
   "source": [
    "hr_data_dummy = hr_data_dummy.assign(DiffBetweenEval = abs(hr_data_dummy.satisfaction_level - hr_data_dummy.last_evaluation))"
   ]
  },
  {
   "cell_type": "code",
   "execution_count": 242,
   "metadata": {
    "collapsed": true
   },
   "outputs": [],
   "source": [
    "X = hr_data_dummy.drop('left', axis = 1)\n",
    "y = hr_data_dummy['left']\n",
    "X_train, X_test, y_train, y_test = train_test_split(X, y, test_size=0.20, random_state=42)"
   ]
  },
  {
   "cell_type": "code",
   "execution_count": 243,
   "metadata": {},
   "outputs": [
    {
     "data": {
      "text/plain": [
       "RandomForestClassifier(bootstrap=True, class_weight=None, criterion='gini',\n",
       "            max_depth=None, max_features='auto', max_leaf_nodes=None,\n",
       "            min_impurity_split=1e-07, min_samples_leaf=1,\n",
       "            min_samples_split=2, min_weight_fraction_leaf=0.0,\n",
       "            n_estimators=100, n_jobs=1, oob_score=False, random_state=None,\n",
       "            verbose=0, warm_start=False)"
      ]
     },
     "execution_count": 243,
     "metadata": {},
     "output_type": "execute_result"
    }
   ],
   "source": [
    "rf = RandomForestClassifier(n_estimators=100)\n",
    "rf.fit(X_train, y_train)"
   ]
  },
  {
   "cell_type": "code",
   "execution_count": 244,
   "metadata": {},
   "outputs": [
    {
     "name": "stdout",
     "output_type": "stream",
     "text": [
      "[[2285    9]\n",
      " [  24  682]]\n",
      "0.989\n",
      "             precision    recall  f1-score   support\n",
      "\n",
      "          0       0.99      1.00      0.99      2294\n",
      "          1       0.99      0.97      0.98       706\n",
      "\n",
      "avg / total       0.99      0.99      0.99      3000\n",
      "\n"
     ]
    }
   ],
   "source": [
    "print(confusion_matrix(y_test, rf.predict(X_test))) # known x predicted\n",
    "print(accuracy_score(y_test, rf.predict(X_test)))\n",
    "print(classification_report(y_test, rf.predict(X_test)))"
   ]
  },
  {
   "cell_type": "markdown",
   "metadata": {},
   "source": [
    "# Getting a model in production with Flask\n",
    "Going to spin up a very simple version of our current random forest for ease of demonstration. This could be used to account for new data as it comes into the system and act as quickly as possible on it."
   ]
  },
  {
   "cell_type": "code",
   "execution_count": 49,
   "metadata": {
    "collapsed": true
   },
   "outputs": [],
   "source": [
    "hr_data_dummy = pd.get_dummies(hr_data)"
   ]
  },
  {
   "cell_type": "code",
   "execution_count": 50,
   "metadata": {
    "collapsed": true
   },
   "outputs": [],
   "source": [
    "X = hr_data_dummy[['satisfaction_level', 'time_spend_company']]\n",
    "y = hr_data_dummy['left']\n",
    "X_train, X_test, y_train, y_test = train_test_split(X, y, test_size=0.20, random_state=42)"
   ]
  },
  {
   "cell_type": "code",
   "execution_count": 51,
   "metadata": {},
   "outputs": [
    {
     "data": {
      "text/plain": [
       "RandomForestClassifier(bootstrap=True, class_weight=None, criterion='gini',\n",
       "            max_depth=None, max_features='auto', max_leaf_nodes=None,\n",
       "            min_impurity_split=1e-07, min_samples_leaf=1,\n",
       "            min_samples_split=2, min_weight_fraction_leaf=0.0,\n",
       "            n_estimators=100, n_jobs=1, oob_score=False, random_state=None,\n",
       "            verbose=0, warm_start=False)"
      ]
     },
     "execution_count": 51,
     "metadata": {},
     "output_type": "execute_result"
    }
   ],
   "source": [
    "rf = RandomForestClassifier(n_estimators=100)\n",
    "rf.fit(X_train, y_train)"
   ]
  },
  {
   "cell_type": "code",
   "execution_count": 52,
   "metadata": {},
   "outputs": [
    {
     "data": {
      "text/plain": [
       "['/home/aorso/Documents/github/kaggle_hr_analytics/rf_columns.pkl']"
      ]
     },
     "execution_count": 52,
     "metadata": {},
     "output_type": "execute_result"
    }
   ],
   "source": [
    "from sklearn.externals import joblib\n",
    "joblib.dump(rf, '/home/aorso/Documents/github/kaggle_hr_analytics/rf.pkl')\n",
    "model_columns = ['satisfaction_level', 'time_spend_company']\n",
    "joblib.dump(model_columns, '/home/aorso/Documents/github/kaggle_hr_analytics/rf_columns.pkl')"
   ]
  },
  {
   "cell_type": "markdown",
   "metadata": {},
   "source": [
    "Test dataframe that we can replicate in realtime"
   ]
  },
  {
   "cell_type": "code",
   "execution_count": 53,
   "metadata": {},
   "outputs": [
    {
     "data": {
      "text/plain": [
       "array([1])"
      ]
     },
     "execution_count": 53,
     "metadata": {},
     "output_type": "execute_result"
    }
   ],
   "source": [
    "a = pd.DataFrame({\"satisfaction_level\":[0.01], \"time_spend_company\":[3]})\n",
    "rf.predict(a)"
   ]
  },
  {
   "cell_type": "markdown",
   "metadata": {},
   "source": [
    "# Next Steps\n",
    "## What else could we have done?\n",
    "- Additional data would be the biggest thing here as there are a lot of factors that would impact this as well.\n",
    "- Could have tried some sampling techniques, though I don't think it would have helped much.\n",
    "- Scaling of some of the data, though again, not super important unless I'm looking at something like SVMs. \n",
    "- Additional feature engineering based on the actual problem context or explored interaction variables a bit more.\n",
    "\n",
    "## What would business recommendations be?\n",
    "- Employee satisfaction surveys are a very easy one to see if there are any large areas we can identify that might be causing dissatisfaction. It's cheap and easy and gets at our most important feature.\n",
    "- As soon as people hit the 3 year mark, there likelihood of attriting becomes higher than average, therefore those are folks we might want to keep an eye on. Especially the 4th and 5th years. This could involve more consideration for where their salary level is at, relative to the national average for someone of their skillset as staying at one job typically results in lower pay over time. Implementing a review process at that time period as a bit of a reset could be very meaningful.\n",
    "- You could create an attrition watchlist that comes out at some cadence. Would require a different dataset that is time-based and your features could be similar but would also involve time-series trends so for example, if someones performance starts to deteriorate, could that indicate something?\n",
    "- Utilize exit surveys of employees that have left to better understand what the issues were and either address those issues, if it's that simple, or figure out how to incorporate that type of thing into the model to better identify the next person."
   ]
  }
 ],
 "metadata": {
  "kernelspec": {
   "display_name": "Python 3",
   "language": "python",
   "name": "python3"
  },
  "language_info": {
   "codemirror_mode": {
    "name": "ipython",
    "version": 3
   },
   "file_extension": ".py",
   "mimetype": "text/x-python",
   "name": "python",
   "nbconvert_exporter": "python",
   "pygments_lexer": "ipython3",
   "version": "3.6.1"
  }
 },
 "nbformat": 4,
 "nbformat_minor": 2
}
